{
 "cells": [
  {
   "cell_type": "markdown",
   "metadata": {
    "collapsed": false
   },
   "source": [
    "# Biopython demo\n",
    "Biopython is set of tools for bioinformaticians.\n",
    "\n",
    "More info here: http://biopython.org/wiki/Main_Page\n",
    "\n",
    "You can download Biopython here: http://biopython.org/wiki/Download\n",
    "\n",
    "Tutorial is available here: http://biopython.org/DIST/docs/tutorial/Tutorial.html or here: http://biopython.org/wiki/Getting_Started"
   ]
  },
  {
   "cell_type": "code",
   "execution_count": null,
   "metadata": {
    "collapsed": true
   },
   "outputs": [],
   "source": [
    "# you can import Biopython by including following line in your code\n",
    "import Bio"
   ]
  },
  {
   "cell_type": "markdown",
   "metadata": {},
   "source": [
    "## Working with sequence data"
   ]
  },
  {
   "cell_type": "code",
   "execution_count": 1,
   "metadata": {
    "collapsed": false
   },
   "outputs": [
    {
     "name": "stdout",
     "output_type": "stream",
     "text": [
      "CATGTAGACTAG\n"
     ]
    }
   ],
   "source": [
    "from Bio.Seq import Seq\n",
    "#create a sequence object\n",
    "my_seq = Seq('CATGTAGACTAG')\n",
    "print my_seq"
   ]
  },
  {
   "cell_type": "code",
   "execution_count": 2,
   "metadata": {
    "collapsed": false
   },
   "outputs": [
    {
     "data": {
      "text/plain": [
       "Bio.Seq.Seq"
      ]
     },
     "execution_count": 2,
     "metadata": {},
     "output_type": "execute_result"
    }
   ],
   "source": [
    "type(my_seq)"
   ]
  },
  {
   "cell_type": "code",
   "execution_count": 3,
   "metadata": {
    "collapsed": false
   },
   "outputs": [
    {
     "name": "stdout",
     "output_type": "stream",
     "text": [
      "seq CATGTAGACTAG is 12 bases long\n",
      "reverse complement is CTAGTCTACATG\n",
      "protein translation is HVD*\n"
     ]
    }
   ],
   "source": [
    "#print out some details about it\n",
    "print 'seq %s is %i bases long' % (my_seq, len(my_seq))\n",
    "print 'reverse complement is %s' % my_seq.reverse_complement()\n",
    "print 'protein translation is %s' % my_seq.translate()"
   ]
  },
  {
   "cell_type": "markdown",
   "metadata": {},
   "source": [
    "## Working with files in FASTA format"
   ]
  },
  {
   "cell_type": "markdown",
   "metadata": {
    "collapsed": true
   },
   "source": [
    "![caption](orchid.jpg)"
   ]
  },
  {
   "cell_type": "code",
   "execution_count": null,
   "metadata": {
    "collapsed": false
   },
   "outputs": [],
   "source": [
    "from Bio import SeqIO\n",
    "# for each sequence print: 1. Sequence ID, 2. Sequence length\n",
    "for seq_record in SeqIO.parse(\"ls_orchid.fasta\", \"fasta\"):\n",
    "    print seq_record.id\n",
    "    print(len(seq_record))"
   ]
  },
  {
   "cell_type": "code",
   "execution_count": null,
   "metadata": {
    "collapsed": false
   },
   "outputs": [],
   "source": [
    "handle = open(\"ls_orchid.fasta\", \"rU\")\n",
    "records = list(SeqIO.parse(handle, \"fasta\"))\n",
    "handle.close()\n",
    "print type(records)\n",
    "print type(records[0])"
   ]
  },
  {
   "cell_type": "code",
   "execution_count": null,
   "metadata": {
    "collapsed": false
   },
   "outputs": [],
   "source": [
    "print records[0].id  #first record\n",
    "print records[-1].id #last record"
   ]
  },
  {
   "cell_type": "markdown",
   "metadata": {},
   "source": [
    "## Working with files in GenBank format"
   ]
  },
  {
   "cell_type": "code",
   "execution_count": null,
   "metadata": {
    "collapsed": false
   },
   "outputs": [],
   "source": [
    "from Bio import SeqIO\n",
    "input_handle = open(\"ls_orchid.gbk\", \"rU\")\n",
    "for record in SeqIO.parse(input_handle, \"genbank\") :\n",
    "    print record\n",
    "input_handle.close()"
   ]
  },
  {
   "cell_type": "code",
   "execution_count": null,
   "metadata": {
    "collapsed": false
   },
   "outputs": [],
   "source": [
    "# We can covnert from GenBank format to Fasta\n",
    "count = SeqIO.convert(\"ls_orchid.gbk\", \"genbank\", \"ls_orchid_converted.fasta\", \"fasta\")\n",
    "print \"Converted %i records\" % count"
   ]
  },
  {
   "cell_type": "code",
   "execution_count": null,
   "metadata": {
    "collapsed": false
   },
   "outputs": [],
   "source": [
    "# Load one record from GenBank\n",
    "record = SeqIO.read(\"NC_005816.gb\", \"genbank\")\n",
    "print record"
   ]
  },
  {
   "cell_type": "code",
   "execution_count": null,
   "metadata": {
    "collapsed": false
   },
   "outputs": [],
   "source": [
    "print record.seq\n",
    "print record.id\n",
    "print record.description"
   ]
  },
  {
   "cell_type": "markdown",
   "metadata": {},
   "source": [
    "## Example: count GC%"
   ]
  },
  {
   "cell_type": "code",
   "execution_count": null,
   "metadata": {
    "collapsed": false
   },
   "outputs": [],
   "source": [
    "# without biopython SeqIO\n",
    "my_seq = 'GATCGATGGGCCTATATAGGATCGAAAATCGC'\n",
    "100 * float(my_seq.count(\"G\") + my_seq.count(\"C\")) / len(my_seq)"
   ]
  },
  {
   "cell_type": "code",
   "execution_count": null,
   "metadata": {
    "collapsed": false
   },
   "outputs": [],
   "source": [
    "# with SeqIO\n",
    "from Bio.Seq import Seq\n",
    "from Bio.Alphabet import IUPAC\n",
    "from Bio.SeqUtils import GC\n",
    "my_seq = Seq('GATCGATGGGCCTATATAGGATCGAAAATCGC', IUPAC.unambiguous_dna)\n",
    "GC(my_seq)"
   ]
  },
  {
   "cell_type": "markdown",
   "metadata": {},
   "source": [
    "## Example: Transcription"
   ]
  },
  {
   "cell_type": "code",
   "execution_count": null,
   "metadata": {
    "collapsed": false
   },
   "outputs": [],
   "source": [
    "# Transcription is done from template DNA\n",
    "from Bio.Seq import Seq\n",
    "from Bio.Alphabet import IUPAC\n",
    "coding_dna = Seq(\"ATGGCCATTGTAATGGGCCGCTGAAAGGGTGCCCGATAG\", IUPAC.unambiguous_dna)\n",
    "print coding_dna\n",
    "template_dna = coding_dna.reverse_complement()\n",
    "print template_dna"
   ]
  },
  {
   "cell_type": "code",
   "execution_count": null,
   "metadata": {
    "collapsed": false
   },
   "outputs": [],
   "source": [
    "# Transcribe DNA from coding strand\n",
    "messenger_rna_coding = coding_dna.transcribe()\n",
    "print messenger_rna_coding\n",
    "# Transcribe DNA as it is done in cell - from template strand\n",
    "messenger_rna_template = template_dna.reverse_complement().transcribe()\n",
    "print messenger_rna_template"
   ]
  },
  {
   "cell_type": "code",
   "execution_count": null,
   "metadata": {
    "collapsed": false
   },
   "outputs": [],
   "source": [
    "import inspect\n",
    "print \"\".join(inspect.getsourcelines(coding_dna.transcribe)[0])"
   ]
  },
  {
   "cell_type": "markdown",
   "metadata": {},
   "source": [
    "## Example: Translation"
   ]
  },
  {
   "cell_type": "code",
   "execution_count": null,
   "metadata": {
    "collapsed": false
   },
   "outputs": [],
   "source": [
    "from Bio.Seq import Seq\n",
    "from Bio.Alphabet import IUPAC\n",
    "messenger_rna = Seq(\"AUGGCCAUUGUAAUGGGCCGCUGAAAGGGUGCCCGAUAG\", IUPAC.unambiguous_rna)\n",
    "# Translate RNA using different translation tables\n",
    "print messenger_rna.translate()\n",
    "print messenger_rna.translate(table=\"Vertebrate Mitochondrial\")\n",
    "print messenger_rna.translate(table=\"Bacterial\")"
   ]
  },
  {
   "cell_type": "code",
   "execution_count": null,
   "metadata": {
    "collapsed": false
   },
   "outputs": [],
   "source": [
    "# Translate directly from coding DNA\n",
    "coding_dna = Seq(\"ATGGCCATTGTAATGGGCCGCTGAAAGGGTGCCCGATAG\", IUPAC.unambiguous_dna)\n",
    "print coding_dna.translate()"
   ]
  },
  {
   "cell_type": "code",
   "execution_count": null,
   "metadata": {
    "collapsed": false
   },
   "outputs": [],
   "source": [
    "#  Customize stop symbol in the output\n",
    "print coding_dna.translate(stop_symbol=\"STOP\")"
   ]
  },
  {
   "cell_type": "markdown",
   "metadata": {},
   "source": [
    "## Translation tables"
   ]
  },
  {
   "cell_type": "code",
   "execution_count": null,
   "metadata": {
    "collapsed": true
   },
   "outputs": [],
   "source": [
    "# Load tables from Data module \n",
    "from Bio.Data import CodonTable\n",
    "standard_table = CodonTable.unambiguous_dna_by_name[\"Standard\"]\n",
    "mito_table = CodonTable.unambiguous_dna_by_name[\"Vertebrate Mitochondrial\"]"
   ]
  },
  {
   "cell_type": "code",
   "execution_count": null,
   "metadata": {
    "collapsed": false
   },
   "outputs": [],
   "source": [
    "# Print standard codon table\n",
    "print(standard_table)"
   ]
  },
  {
   "cell_type": "code",
   "execution_count": null,
   "metadata": {
    "collapsed": false
   },
   "outputs": [],
   "source": [
    "# Print codon table for mitochondia in vertebrates\n",
    "print(mito_table)"
   ]
  }
 ],
 "metadata": {
  "kernelspec": {
   "display_name": "Python 2",
   "language": "python",
   "name": "python2"
  },
  "language_info": {
   "codemirror_mode": {
    "name": "ipython",
    "version": 2
   },
   "file_extension": ".py",
   "mimetype": "text/x-python",
   "name": "python",
   "nbconvert_exporter": "python",
   "pygments_lexer": "ipython2",
   "version": "2.7.10"
  }
 },
 "nbformat": 4,
 "nbformat_minor": 0
}
